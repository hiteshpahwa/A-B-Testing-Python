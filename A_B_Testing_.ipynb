{
  "nbformat": 4,
  "nbformat_minor": 0,
  "metadata": {
    "colab": {
      "provenance": []
    },
    "kernelspec": {
      "name": "python3",
      "display_name": "Python 3"
    },
    "language_info": {
      "name": "python"
    }
  },
  "cells": [
    {
      "cell_type": "code",
      "execution_count": 1,
      "metadata": {
        "id": "j0zUFZz2e8o4"
      },
      "outputs": [],
      "source": [
        "import pandas as pd"
      ]
    },
    {
      "cell_type": "code",
      "source": [
        "Super_LobsterRun_data=pd.read_csv(\"/content/lobster_run.csv\")"
      ],
      "metadata": {
        "id": "glRDtmRVfGVJ"
      },
      "execution_count": 2,
      "outputs": []
    },
    {
      "cell_type": "code",
      "source": [
        "Super_LobsterRun_data.head()"
      ],
      "metadata": {
        "colab": {
          "base_uri": "https://localhost:8080/",
          "height": 206
        },
        "id": "wmEVsy3Jff7G",
        "outputId": "31a66ed6-bf4b-4740-bbf7-2ea780b27596"
      },
      "execution_count": 3,
      "outputs": [
        {
          "output_type": "execute_result",
          "data": {
            "text/plain": [
              "   userid        version  sum_gamerounds  retention_1  retention_7  user_spend\n",
              "0       1  Gulf of Maine               3        False        False       17.09\n",
              "1       2  Gulf of Maine              38         True        False       15.30\n",
              "2       7  Gulf of Maine               0        False        False       13.67\n",
              "3      12  Gulf of Maine               0        False        False       16.92\n",
              "4      14  Gulf of Maine              39         True        False        8.42"
            ],
            "text/html": [
              "\n",
              "  <div id=\"df-32a428d2-626d-4544-ba84-3d74713e6d00\" class=\"colab-df-container\">\n",
              "    <div>\n",
              "<style scoped>\n",
              "    .dataframe tbody tr th:only-of-type {\n",
              "        vertical-align: middle;\n",
              "    }\n",
              "\n",
              "    .dataframe tbody tr th {\n",
              "        vertical-align: top;\n",
              "    }\n",
              "\n",
              "    .dataframe thead th {\n",
              "        text-align: right;\n",
              "    }\n",
              "</style>\n",
              "<table border=\"1\" class=\"dataframe\">\n",
              "  <thead>\n",
              "    <tr style=\"text-align: right;\">\n",
              "      <th></th>\n",
              "      <th>userid</th>\n",
              "      <th>version</th>\n",
              "      <th>sum_gamerounds</th>\n",
              "      <th>retention_1</th>\n",
              "      <th>retention_7</th>\n",
              "      <th>user_spend</th>\n",
              "    </tr>\n",
              "  </thead>\n",
              "  <tbody>\n",
              "    <tr>\n",
              "      <th>0</th>\n",
              "      <td>1</td>\n",
              "      <td>Gulf of Maine</td>\n",
              "      <td>3</td>\n",
              "      <td>False</td>\n",
              "      <td>False</td>\n",
              "      <td>17.09</td>\n",
              "    </tr>\n",
              "    <tr>\n",
              "      <th>1</th>\n",
              "      <td>2</td>\n",
              "      <td>Gulf of Maine</td>\n",
              "      <td>38</td>\n",
              "      <td>True</td>\n",
              "      <td>False</td>\n",
              "      <td>15.30</td>\n",
              "    </tr>\n",
              "    <tr>\n",
              "      <th>2</th>\n",
              "      <td>7</td>\n",
              "      <td>Gulf of Maine</td>\n",
              "      <td>0</td>\n",
              "      <td>False</td>\n",
              "      <td>False</td>\n",
              "      <td>13.67</td>\n",
              "    </tr>\n",
              "    <tr>\n",
              "      <th>3</th>\n",
              "      <td>12</td>\n",
              "      <td>Gulf of Maine</td>\n",
              "      <td>0</td>\n",
              "      <td>False</td>\n",
              "      <td>False</td>\n",
              "      <td>16.92</td>\n",
              "    </tr>\n",
              "    <tr>\n",
              "      <th>4</th>\n",
              "      <td>14</td>\n",
              "      <td>Gulf of Maine</td>\n",
              "      <td>39</td>\n",
              "      <td>True</td>\n",
              "      <td>False</td>\n",
              "      <td>8.42</td>\n",
              "    </tr>\n",
              "  </tbody>\n",
              "</table>\n",
              "</div>\n",
              "    <div class=\"colab-df-buttons\">\n",
              "\n",
              "  <div class=\"colab-df-container\">\n",
              "    <button class=\"colab-df-convert\" onclick=\"convertToInteractive('df-32a428d2-626d-4544-ba84-3d74713e6d00')\"\n",
              "            title=\"Convert this dataframe to an interactive table.\"\n",
              "            style=\"display:none;\">\n",
              "\n",
              "  <svg xmlns=\"http://www.w3.org/2000/svg\" height=\"24px\" viewBox=\"0 -960 960 960\">\n",
              "    <path d=\"M120-120v-720h720v720H120Zm60-500h600v-160H180v160Zm220 220h160v-160H400v160Zm0 220h160v-160H400v160ZM180-400h160v-160H180v160Zm440 0h160v-160H620v160ZM180-180h160v-160H180v160Zm440 0h160v-160H620v160Z\"/>\n",
              "  </svg>\n",
              "    </button>\n",
              "\n",
              "  <style>\n",
              "    .colab-df-container {\n",
              "      display:flex;\n",
              "      gap: 12px;\n",
              "    }\n",
              "\n",
              "    .colab-df-convert {\n",
              "      background-color: #E8F0FE;\n",
              "      border: none;\n",
              "      border-radius: 50%;\n",
              "      cursor: pointer;\n",
              "      display: none;\n",
              "      fill: #1967D2;\n",
              "      height: 32px;\n",
              "      padding: 0 0 0 0;\n",
              "      width: 32px;\n",
              "    }\n",
              "\n",
              "    .colab-df-convert:hover {\n",
              "      background-color: #E2EBFA;\n",
              "      box-shadow: 0px 1px 2px rgba(60, 64, 67, 0.3), 0px 1px 3px 1px rgba(60, 64, 67, 0.15);\n",
              "      fill: #174EA6;\n",
              "    }\n",
              "\n",
              "    .colab-df-buttons div {\n",
              "      margin-bottom: 4px;\n",
              "    }\n",
              "\n",
              "    [theme=dark] .colab-df-convert {\n",
              "      background-color: #3B4455;\n",
              "      fill: #D2E3FC;\n",
              "    }\n",
              "\n",
              "    [theme=dark] .colab-df-convert:hover {\n",
              "      background-color: #434B5C;\n",
              "      box-shadow: 0px 1px 3px 1px rgba(0, 0, 0, 0.15);\n",
              "      filter: drop-shadow(0px 1px 2px rgba(0, 0, 0, 0.3));\n",
              "      fill: #FFFFFF;\n",
              "    }\n",
              "  </style>\n",
              "\n",
              "    <script>\n",
              "      const buttonEl =\n",
              "        document.querySelector('#df-32a428d2-626d-4544-ba84-3d74713e6d00 button.colab-df-convert');\n",
              "      buttonEl.style.display =\n",
              "        google.colab.kernel.accessAllowed ? 'block' : 'none';\n",
              "\n",
              "      async function convertToInteractive(key) {\n",
              "        const element = document.querySelector('#df-32a428d2-626d-4544-ba84-3d74713e6d00');\n",
              "        const dataTable =\n",
              "          await google.colab.kernel.invokeFunction('convertToInteractive',\n",
              "                                                    [key], {});\n",
              "        if (!dataTable) return;\n",
              "\n",
              "        const docLinkHtml = 'Like what you see? Visit the ' +\n",
              "          '<a target=\"_blank\" href=https://colab.research.google.com/notebooks/data_table.ipynb>data table notebook</a>'\n",
              "          + ' to learn more about interactive tables.';\n",
              "        element.innerHTML = '';\n",
              "        dataTable['output_type'] = 'display_data';\n",
              "        await google.colab.output.renderOutput(dataTable, element);\n",
              "        const docLink = document.createElement('div');\n",
              "        docLink.innerHTML = docLinkHtml;\n",
              "        element.appendChild(docLink);\n",
              "      }\n",
              "    </script>\n",
              "  </div>\n",
              "\n",
              "\n",
              "<div id=\"df-89486dad-86d6-4c84-beac-3a04e924d83c\">\n",
              "  <button class=\"colab-df-quickchart\" onclick=\"quickchart('df-89486dad-86d6-4c84-beac-3a04e924d83c')\"\n",
              "            title=\"Suggest charts\"\n",
              "            style=\"display:none;\">\n",
              "\n",
              "<svg xmlns=\"http://www.w3.org/2000/svg\" height=\"24px\"viewBox=\"0 0 24 24\"\n",
              "     width=\"24px\">\n",
              "    <g>\n",
              "        <path d=\"M19 3H5c-1.1 0-2 .9-2 2v14c0 1.1.9 2 2 2h14c1.1 0 2-.9 2-2V5c0-1.1-.9-2-2-2zM9 17H7v-7h2v7zm4 0h-2V7h2v10zm4 0h-2v-4h2v4z\"/>\n",
              "    </g>\n",
              "</svg>\n",
              "  </button>\n",
              "\n",
              "<style>\n",
              "  .colab-df-quickchart {\n",
              "      --bg-color: #E8F0FE;\n",
              "      --fill-color: #1967D2;\n",
              "      --hover-bg-color: #E2EBFA;\n",
              "      --hover-fill-color: #174EA6;\n",
              "      --disabled-fill-color: #AAA;\n",
              "      --disabled-bg-color: #DDD;\n",
              "  }\n",
              "\n",
              "  [theme=dark] .colab-df-quickchart {\n",
              "      --bg-color: #3B4455;\n",
              "      --fill-color: #D2E3FC;\n",
              "      --hover-bg-color: #434B5C;\n",
              "      --hover-fill-color: #FFFFFF;\n",
              "      --disabled-bg-color: #3B4455;\n",
              "      --disabled-fill-color: #666;\n",
              "  }\n",
              "\n",
              "  .colab-df-quickchart {\n",
              "    background-color: var(--bg-color);\n",
              "    border: none;\n",
              "    border-radius: 50%;\n",
              "    cursor: pointer;\n",
              "    display: none;\n",
              "    fill: var(--fill-color);\n",
              "    height: 32px;\n",
              "    padding: 0;\n",
              "    width: 32px;\n",
              "  }\n",
              "\n",
              "  .colab-df-quickchart:hover {\n",
              "    background-color: var(--hover-bg-color);\n",
              "    box-shadow: 0 1px 2px rgba(60, 64, 67, 0.3), 0 1px 3px 1px rgba(60, 64, 67, 0.15);\n",
              "    fill: var(--button-hover-fill-color);\n",
              "  }\n",
              "\n",
              "  .colab-df-quickchart-complete:disabled,\n",
              "  .colab-df-quickchart-complete:disabled:hover {\n",
              "    background-color: var(--disabled-bg-color);\n",
              "    fill: var(--disabled-fill-color);\n",
              "    box-shadow: none;\n",
              "  }\n",
              "\n",
              "  .colab-df-spinner {\n",
              "    border: 2px solid var(--fill-color);\n",
              "    border-color: transparent;\n",
              "    border-bottom-color: var(--fill-color);\n",
              "    animation:\n",
              "      spin 1s steps(1) infinite;\n",
              "  }\n",
              "\n",
              "  @keyframes spin {\n",
              "    0% {\n",
              "      border-color: transparent;\n",
              "      border-bottom-color: var(--fill-color);\n",
              "      border-left-color: var(--fill-color);\n",
              "    }\n",
              "    20% {\n",
              "      border-color: transparent;\n",
              "      border-left-color: var(--fill-color);\n",
              "      border-top-color: var(--fill-color);\n",
              "    }\n",
              "    30% {\n",
              "      border-color: transparent;\n",
              "      border-left-color: var(--fill-color);\n",
              "      border-top-color: var(--fill-color);\n",
              "      border-right-color: var(--fill-color);\n",
              "    }\n",
              "    40% {\n",
              "      border-color: transparent;\n",
              "      border-right-color: var(--fill-color);\n",
              "      border-top-color: var(--fill-color);\n",
              "    }\n",
              "    60% {\n",
              "      border-color: transparent;\n",
              "      border-right-color: var(--fill-color);\n",
              "    }\n",
              "    80% {\n",
              "      border-color: transparent;\n",
              "      border-right-color: var(--fill-color);\n",
              "      border-bottom-color: var(--fill-color);\n",
              "    }\n",
              "    90% {\n",
              "      border-color: transparent;\n",
              "      border-bottom-color: var(--fill-color);\n",
              "    }\n",
              "  }\n",
              "</style>\n",
              "\n",
              "  <script>\n",
              "    async function quickchart(key) {\n",
              "      const quickchartButtonEl =\n",
              "        document.querySelector('#' + key + ' button');\n",
              "      quickchartButtonEl.disabled = true;  // To prevent multiple clicks.\n",
              "      quickchartButtonEl.classList.add('colab-df-spinner');\n",
              "      try {\n",
              "        const charts = await google.colab.kernel.invokeFunction(\n",
              "            'suggestCharts', [key], {});\n",
              "      } catch (error) {\n",
              "        console.error('Error during call to suggestCharts:', error);\n",
              "      }\n",
              "      quickchartButtonEl.classList.remove('colab-df-spinner');\n",
              "      quickchartButtonEl.classList.add('colab-df-quickchart-complete');\n",
              "    }\n",
              "    (() => {\n",
              "      let quickchartButtonEl =\n",
              "        document.querySelector('#df-89486dad-86d6-4c84-beac-3a04e924d83c button');\n",
              "      quickchartButtonEl.style.display =\n",
              "        google.colab.kernel.accessAllowed ? 'block' : 'none';\n",
              "    })();\n",
              "  </script>\n",
              "</div>\n",
              "\n",
              "    </div>\n",
              "  </div>\n"
            ],
            "application/vnd.google.colaboratory.intrinsic+json": {
              "type": "dataframe",
              "variable_name": "Super_LobsterRun_data",
              "summary": "{\n  \"name\": \"Super_LobsterRun_data\",\n  \"rows\": 90189,\n  \"fields\": [\n    {\n      \"column\": \"userid\",\n      \"properties\": {\n        \"dtype\": \"number\",\n        \"std\": 26035,\n        \"min\": 1,\n        \"max\": 90189,\n        \"num_unique_values\": 90189,\n        \"samples\": [\n          59121,\n          71558,\n          51744\n        ],\n        \"semantic_type\": \"\",\n        \"description\": \"\"\n      }\n    },\n    {\n      \"column\": \"version\",\n      \"properties\": {\n        \"dtype\": \"category\",\n        \"num_unique_values\": 2,\n        \"samples\": [\n          \"North Atlantic\",\n          \"Gulf of Maine\"\n        ],\n        \"semantic_type\": \"\",\n        \"description\": \"\"\n      }\n    },\n    {\n      \"column\": \"sum_gamerounds\",\n      \"properties\": {\n        \"dtype\": \"number\",\n        \"std\": 195,\n        \"min\": 0,\n        \"max\": 49854,\n        \"num_unique_values\": 942,\n        \"samples\": [\n          382,\n          611\n        ],\n        \"semantic_type\": \"\",\n        \"description\": \"\"\n      }\n    },\n    {\n      \"column\": \"retention_1\",\n      \"properties\": {\n        \"dtype\": \"boolean\",\n        \"num_unique_values\": 2,\n        \"samples\": [\n          true,\n          false\n        ],\n        \"semantic_type\": \"\",\n        \"description\": \"\"\n      }\n    },\n    {\n      \"column\": \"retention_7\",\n      \"properties\": {\n        \"dtype\": \"boolean\",\n        \"num_unique_values\": 2,\n        \"samples\": [\n          true,\n          false\n        ],\n        \"semantic_type\": \"\",\n        \"description\": \"\"\n      }\n    },\n    {\n      \"column\": \"user_spend\",\n      \"properties\": {\n        \"dtype\": \"number\",\n        \"std\": 2.74726777721652,\n        \"min\": 4.05,\n        \"max\": 28.0,\n        \"num_unique_values\": 1799,\n        \"samples\": [\n          21.36,\n          13.31\n        ],\n        \"semantic_type\": \"\",\n        \"description\": \"\"\n      }\n    }\n  ]\n}"
            }
          },
          "metadata": {},
          "execution_count": 3
        }
      ]
    },
    {
      "cell_type": "markdown",
      "source": [
        "PART-1\n",
        "A/B Testing for user spending"
      ],
      "metadata": {
        "id": "88pzpZchC-mG"
      }
    },
    {
      "cell_type": "code",
      "source": [
        "# (A)\n",
        "import pandas as pd\n",
        "import seaborn as sns\n",
        "import matplotlib.pyplot as plt\n",
        "\n",
        "# creating a histogram\n",
        "plt.hist(Super_LobsterRun_data['user_spend'], bins=12,color=\"pink\", edgecolor=\"blue\")\n",
        "plt.title('User Spend Histogram')\n",
        "plt.xlabel('User Spend')\n",
        "plt.ylabel('Frequency')\n",
        "plt.show()"
      ],
      "metadata": {
        "colab": {
          "base_uri": "https://localhost:8080/",
          "height": 472
        },
        "id": "p7JeNytrh86W",
        "outputId": "cf25e2e3-6f22-47da-b2bd-fb3b2a5c6926"
      },
      "execution_count": 4,
      "outputs": [
        {
          "output_type": "display_data",
          "data": {
            "text/plain": [
              "<Figure size 640x480 with 1 Axes>"
            ],
            "image/png": "[encoded data removed]"
          },
          "metadata": {}
        }
      ]
    },
    {
      "cell_type": "markdown",
      "source": [
        "Above histogram indicates that most of the users have spend money in the range of 10 to 20 US dollars since they have downloaded the gaming app. In precise words  15 dollars is the highest amount that have been   spent by majority of users."
      ],
      "metadata": {
        "id": "uKwwR1nHql5Z"
      }
    },
    {
      "cell_type": "code",
      "source": [
        "# (B)\n",
        "sns.histplot(data=Super_LobsterRun_data, x='user_spend', hue='version',palette=\"bright\", binwidth=5)\n",
        "\n",
        "\n",
        "# Add title and axis labels\n",
        "plt.title('User Spend Histogram by Version')\n",
        "plt.xlabel('User Spend')\n",
        "plt.ylabel('Frequency')\n",
        "\n",
        "# Show plot\n",
        "plt.show()"
      ],
      "metadata": {
        "colab": {
          "base_uri": "https://localhost:8080/",
          "height": 472
        },
        "id": "AIQiDmd4lR4L",
        "outputId": "787eb122-91d3-4cb8-dee9-a709e66fb4de"
      },
      "execution_count": 5,
      "outputs": [
        {
          "output_type": "display_data",
          "data": {
            "text/plain": [
              "<Figure size 640x480 with 1 Axes>"
            ],
            "image/png": "[encoded data removed]"
          },
          "metadata": {}
        }
      ]
    },
    {
      "cell_type": "markdown",
      "source": [
        "From the above histogram it is found that money spent by users of North Atlantic version is slightly higher than the Gulf of Maine."
      ],
      "metadata": {
        "id": "Wr4BBcpFrvcR"
      }
    },
    {
      "cell_type": "code",
      "source": [
        "#(C)\n",
        "from scipy.stats import shapiro\n",
        "\n",
        "user_spend = Super_LobsterRun_data[\"user_spend\"]\n",
        "stat, p = shapiro(user_spend)\n",
        "\n",
        "print(\"Shapiro-Wilk test results:\")\n",
        "print(f\"Test statistic: {stat:.4f}\")\n",
        "print(f\"P-value: {p:.4f}\")\n",
        "\n",
        "# interpret the p-value\n",
        "alpha = 0.05\n",
        "if p > alpha:\n",
        "    print('User spend data is normally distributed (fail to reject H0)')\n",
        "else:\n",
        "    print('User spend data is not normally distributed (reject H0)')\n"
      ],
      "metadata": {
        "colab": {
          "base_uri": "https://localhost:8080/"
        },
        "id": "fthSKeZf7LHl",
        "outputId": "81d9f2f4-2103-4ccb-9cdc-07af6a0117fc"
      },
      "execution_count": null,
      "outputs": [
        {
          "output_type": "stream",
          "name": "stdout",
          "text": [
            "Shapiro-Wilk test results:\n",
            "Test statistic: 1.0000\n",
            "P-value: 0.5059\n",
            "User spend data is normally distributed (fail to reject H0)\n"
          ]
        },
        {
          "output_type": "stream",
          "name": "stderr",
          "text": [
            "/usr/local/lib/python3.9/dist-packages/scipy/stats/_morestats.py:1816: UserWarning: p-value may not be accurate for N > 5000.\n",
            "  warnings.warn(\"p-value may not be accurate for N > 5000.\")\n"
          ]
        }
      ]
    },
    {
      "cell_type": "markdown",
      "source": [
        "C(a) The test's null hypothesis is 0.05."
      ],
      "metadata": {
        "id": "8Ncb-XtwEuLJ"
      }
    },
    {
      "cell_type": "markdown",
      "source": [
        "C(b) As the p value is greater than 0.05, we fail to reject null hypothesis. So User spend data is normally distributed."
      ],
      "metadata": {
        "id": "Z9nhc4cUFPUG"
      }
    },
    {
      "cell_type": "code",
      "source": [
        "#(D)\n",
        "import scipy.stats as stats\n",
        "Gulf_of_Maine = Super_LobsterRun_data.query('version == \"Gulf of Maine\"')['user_spend']\n",
        "North_Atlantic = Super_LobsterRun_data.query('version == \"North Atlantic\"')['user_spend']\n",
        "\n",
        "alpha = 0.05\n",
        "t_stat, p_value = stats.ttest_ind(Gulf_of_Maine, North_Atlantic,equal_var = False)\n",
        "print(\"t-statistic:\", t_stat)\n",
        "print(\"p-value:\", p_value)\n",
        "\n",
        "# check if the p-value is less than alpha\n",
        "if p_value < alpha:\n",
        "    print(\"There is a significant difference between user spending for the two versions.\")\n",
        "else:\n",
        "    print(\"There is no significant difference between user spending for the two versions.\")"
      ],
      "metadata": {
        "colab": {
          "base_uri": "https://localhost:8080/"
        },
        "id": "kZhLG2aewp41",
        "outputId": "8f9563c9-833f-429f-acb1-a7abd8ab3ee9"
      },
      "execution_count": null,
      "outputs": [
        {
          "output_type": "stream",
          "name": "stdout",
          "text": [
            "t-statistic: 1.5874056946017774\n",
            "p-value: 0.1124242973851463\n",
            "There is no significant difference between user spending for the two versions.\n"
          ]
        }
      ]
    },
    {
      "cell_type": "markdown",
      "source": [
        "D(a): Our null hypothesis is that there is no significant difference in the user spending between the two versions of the game."
      ],
      "metadata": {
        "id": "Z7MZKXs8FxIz"
      }
    },
    {
      "cell_type": "markdown",
      "source": [
        "D(b): Since the p-value is greater than the significance level of 0.05, we fail to reject the null hypothesis. Therefore, we can conclude that there is no significant difference in the user spending between the two versions of the game."
      ],
      "metadata": {
        "id": "Chb0px-TF6VG"
      }
    },
    {
      "cell_type": "markdown",
      "source": [
        "PART-2\n",
        "A/B Testing two app versions"
      ],
      "metadata": {
        "id": "ReScJPRp5Fbn"
      }
    },
    {
      "cell_type": "code",
      "source": [
        "#(E)\n",
        "summary_stats = Super_LobsterRun_data.groupby('version')[['retention_1', 'retention_7']].mean()\n",
        "summary_stats.head()\n"
      ],
      "metadata": {
        "colab": {
          "base_uri": "https://localhost:8080/",
          "height": 143
        },
        "id": "bA7EoZF_5G96",
        "outputId": "233aa9ef-65f9-43ce-c5e6-3c865468a77d"
      },
      "execution_count": null,
      "outputs": [
        {
          "output_type": "execute_result",
          "data": {
            "text/plain": [
              "                retention_1  retention_7\n",
              "version                                 \n",
              "Gulf of Maine      0.448188     0.195615\n",
              "North Atlantic     0.442283     0.182000"
            ],
            "text/html": [
              "\n",
              "  <div id=\"df-a875595d-30ca-40ad-b693-7e14fbeeee96\">\n",
              "    <div class=\"colab-df-container\">\n",
              "      <div>\n",
              "<style scoped>\n",
              "    .dataframe tbody tr th:only-of-type {\n",
              "        vertical-align: middle;\n",
              "    }\n",
              "\n",
              "    .dataframe tbody tr th {\n",
              "        vertical-align: top;\n",
              "    }\n",
              "\n",
              "    .dataframe thead th {\n",
              "        text-align: right;\n",
              "    }\n",
              "</style>\n",
              "<table border=\"1\" class=\"dataframe\">\n",
              "  <thead>\n",
              "    <tr style=\"text-align: right;\">\n",
              "      <th></th>\n",
              "      <th>retention_1</th>\n",
              "      <th>retention_7</th>\n",
              "    </tr>\n",
              "    <tr>\n",
              "      <th>version</th>\n",
              "      <th></th>\n",
              "      <th></th>\n",
              "    </tr>\n",
              "  </thead>\n",
              "  <tbody>\n",
              "    <tr>\n",
              "      <th>Gulf of Maine</th>\n",
              "      <td>0.448188</td>\n",
              "      <td>0.195615</td>\n",
              "    </tr>\n",
              "    <tr>\n",
              "      <th>North Atlantic</th>\n",
              "      <td>0.442283</td>\n",
              "      <td>0.182000</td>\n",
              "    </tr>\n",
              "  </tbody>\n",
              "</table>\n",
              "</div>\n",
              "      <button class=\"colab-df-convert\" onclick=\"convertToInteractive('df-a875595d-30ca-40ad-b693-7e14fbeeee96')\"\n",
              "              title=\"Convert this dataframe to an interactive table.\"\n",
              "              style=\"display:none;\">\n",
              "        \n",
              "  <svg xmlns=\"http://www.w3.org/2000/svg\" height=\"24px\"viewBox=\"0 0 24 24\"\n",
              "       width=\"24px\">\n",
              "    <path d=\"M0 0h24v24H0V0z\" fill=\"none\"/>\n",
              "    <path d=\"M18.56 5.44l.94 2.06.94-2.06 2.06-.94-2.06-.94-.94-2.06-.94 2.06-2.06.94zm-11 1L8.5 8.5l.94-2.06 2.06-.94-2.06-.94L8.5 2.5l-.94 2.06-2.06.94zm10 10l.94 2.06.94-2.06 2.06-.94-2.06-.94-.94-2.06-.94 2.06-2.06.94z\"/><path d=\"M17.41 7.96l-1.37-1.37c-.4-.4-.92-.59-1.43-.59-.52 0-1.04.2-1.43.59L10.3 9.45l-7.72 7.72c-.78.78-.78 2.05 0 2.83L4 21.41c.39.39.9.59 1.41.59.51 0 1.02-.2 1.41-.59l7.78-7.78 2.81-2.81c.8-.78.8-2.07 0-2.86zM5.41 20L4 18.59l7.72-7.72 1.47 1.35L5.41 20z\"/>\n",
              "  </svg>\n",
              "      </button>\n",
              "      \n",
              "  <style>\n",
              "    .colab-df-container {\n",
              "      display:flex;\n",
              "      flex-wrap:wrap;\n",
              "      gap: 12px;\n",
              "    }\n",
              "\n",
              "    .colab-df-convert {\n",
              "      background-color: #E8F0FE;\n",
              "      border: none;\n",
              "      border-radius: 50%;\n",
              "      cursor: pointer;\n",
              "      display: none;\n",
              "      fill: #1967D2;\n",
              "      height: 32px;\n",
              "      padding: 0 0 0 0;\n",
              "      width: 32px;\n",
              "    }\n",
              "\n",
              "    .colab-df-convert:hover {\n",
              "      background-color: #E2EBFA;\n",
              "      box-shadow: 0px 1px 2px rgba(60, 64, 67, 0.3), 0px 1px 3px 1px rgba(60, 64, 67, 0.15);\n",
              "      fill: #174EA6;\n",
              "    }\n",
              "\n",
              "    [theme=dark] .colab-df-convert {\n",
              "      background-color: #3B4455;\n",
              "      fill: #D2E3FC;\n",
              "    }\n",
              "\n",
              "    [theme=dark] .colab-df-convert:hover {\n",
              "      background-color: #434B5C;\n",
              "      box-shadow: 0px 1px 3px 1px rgba(0, 0, 0, 0.15);\n",
              "      filter: drop-shadow(0px 1px 2px rgba(0, 0, 0, 0.3));\n",
              "      fill: #FFFFFF;\n",
              "    }\n",
              "  </style>\n",
              "\n",
              "      <script>\n",
              "        const buttonEl =\n",
              "          document.querySelector('#df-a875595d-30ca-40ad-b693-7e14fbeeee96 button.colab-df-convert');\n",
              "        buttonEl.style.display =\n",
              "          google.colab.kernel.accessAllowed ? 'block' : 'none';\n",
              "\n",
              "        async function convertToInteractive(key) {\n",
              "          const element = document.querySelector('#df-a875595d-30ca-40ad-b693-7e14fbeeee96');\n",
              "          const dataTable =\n",
              "            await google.colab.kernel.invokeFunction('convertToInteractive',\n",
              "                                                     [key], {});\n",
              "          if (!dataTable) return;\n",
              "\n",
              "          const docLinkHtml = 'Like what you see? Visit the ' +\n",
              "            '<a target=\"_blank\" href=https://colab.research.google.com/notebooks/data_table.ipynb>data table notebook</a>'\n",
              "            + ' to learn more about interactive tables.';\n",
              "          element.innerHTML = '';\n",
              "          dataTable['output_type'] = 'display_data';\n",
              "          await google.colab.output.renderOutput(dataTable, element);\n",
              "          const docLink = document.createElement('div');\n",
              "          docLink.innerHTML = docLinkHtml;\n",
              "          element.appendChild(docLink);\n",
              "        }\n",
              "      </script>\n",
              "    </div>\n",
              "  </div>\n",
              "  "
            ]
          },
          "metadata": {},
          "execution_count": 41
        }
      ]
    },
    {
      "cell_type": "markdown",
      "source": [
        "E(a)\n",
        "From the above table it is concluded that the retention rates for both versions are relatively close to each other. The retention rates after 1 day for Gulf of Maine and North Atlantic are 0.448 and 0.442, respectively, indicating that the two versions have similar initial user engagement. However, the retention rates after 7 days are lower for both versions, with Gulf of Maine having a slightly higher retention rate (0.196) compared to North Atlantic (0.182)."
      ],
      "metadata": {
        "id": "ItFCA7BDA92a"
      }
    },
    {
      "cell_type": "code",
      "source": [
        "# (F)\n",
        "# Calculate the total retention for two different versions of a game\n",
        "total_retention_maine = Super_LobsterRun_data.loc[Super_LobsterRun_data[\"version\"] == \"Gulf of Maine\", \"retention_1\"].sum()\n",
        "total_retention_atlantic = Super_LobsterRun_data.loc[Super_LobsterRun_data[\"version\"] == \"North Atlantic\", \"retention_1\"].sum()\n",
        "\n",
        "# Calculate the number of unique users who played each version of the game\n",
        "unique_users_maine = len(Super_LobsterRun_data.loc[Super_LobsterRun_data[\"version\"] == \"Gulf of Maine\", \"userid\"])\n",
        "unique_users_atlantic = len(Super_LobsterRun_data.loc[Super_LobsterRun_data[\"version\"] == \"North Atlantic\", \"userid\"])\n",
        "\n",
        "from statsmodels.stats.proportion import proportions_ztest\n",
        "\n",
        "successes = [total_retention_maine, total_retention_atlantic]\n",
        "nobs = [unique_users_maine, unique_users_atlantic]\n",
        "\n",
        "z_stat, p_value = proportions_ztest(successes, nobs, alternative = \"two-sided\")\n",
        "\n",
        "print(\"z-statistic:\", z_stat)\n",
        "print(\"p-value:\", p_value)"
      ],
      "metadata": {
        "colab": {
          "base_uri": "https://localhost:8080/"
        },
        "id": "hLJIX3ERiMHi",
        "outputId": "368f6be5-6b50-4acb-ce8b-0ea8a37ae86c"
      },
      "execution_count": null,
      "outputs": [
        {
          "output_type": "stream",
          "name": "stdout",
          "text": [
            "z-statistic: 1.7840862247974725\n",
            "p-value: 0.07440965529691913\n"
          ]
        }
      ]
    },
    {
      "cell_type": "markdown",
      "source": [
        "F(a)\n",
        "The null hypothesis of the binomial z-test is that there is no significant difference between the  number of users who retained the game after one day and after 7 days."
      ],
      "metadata": {
        "id": "J-9aij3Q3WMV"
      }
    },
    {
      "cell_type": "markdown",
      "source": [
        "F(b) I have selected Gulf of Maine"
      ],
      "metadata": {
        "id": "vGwJavHuHX7Z"
      }
    },
    {
      "cell_type": "code",
      "source": [
        "#F(c)\n",
        "chosen_version='Gulf of Maine'\n",
        "num_retained_1day=len(Super_LobsterRun_data[(Super_LobsterRun_data['version']=='Gulf of Maine')&(Super_LobsterRun_data['retention_1']==True)])\n",
        "print(num_retained_1day)"
      ],
      "metadata": {
        "colab": {
          "base_uri": "https://localhost:8080/"
        },
        "id": "5lcy-sUE_pFB",
        "outputId": "7988169e-8f7a-4012-c2cb-cb50663d2990"
      },
      "execution_count": null,
      "outputs": [
        {
          "output_type": "stream",
          "name": "stdout",
          "text": [
            "20034\n"
          ]
        }
      ]
    },
    {
      "cell_type": "markdown",
      "source": [
        "The number of users of Gulf of Maine version who stayed with\n",
        "the game for one day is 20034."
      ],
      "metadata": {
        "id": "LRoXTjpbsn2b"
      }
    },
    {
      "cell_type": "code",
      "source": [
        "#F(d)\n",
        "# Here I calculate total number of users in both versions\n",
        "pd.value_counts(Super_LobsterRun_data['version'],normalize=True)"
      ],
      "metadata": {
        "colab": {
          "base_uri": "https://localhost:8080/"
        },
        "id": "oWuobKKF9kUJ",
        "outputId": "53535f0d-f446-4d13-f302-10a098c86645"
      },
      "execution_count": null,
      "outputs": [
        {
          "output_type": "execute_result",
          "data": {
            "text/plain": [
              "North Atlantic    0.504374\n",
              "Gulf of Maine     0.495626\n",
              "Name: version, dtype: float64"
            ]
          },
          "metadata": {},
          "execution_count": 44
        }
      ]
    },
    {
      "cell_type": "code",
      "source": [
        "# Here I calculated the total number of users in retention_1\n",
        "pd.value_counts(Super_LobsterRun_data['retention_1'])"
      ],
      "metadata": {
        "colab": {
          "base_uri": "https://localhost:8080/"
        },
        "id": "4IKk8gyX98PJ",
        "outputId": "85ed2536-20d9-4f1a-d663-61b99ce7fdd4"
      },
      "execution_count": null,
      "outputs": [
        {
          "output_type": "execute_result",
          "data": {
            "text/plain": [
              "False    50036\n",
              "True     40153\n",
              "Name: retention_1, dtype: int64"
            ]
          },
          "metadata": {},
          "execution_count": 45
        }
      ]
    },
    {
      "cell_type": "code",
      "source": [
        "Gulf_Expect1=40153*0.495626\n",
        "Gulf_Expect1"
      ],
      "metadata": {
        "colab": {
          "base_uri": "https://localhost:8080/"
        },
        "id": "Q7bO7YIuVVim",
        "outputId": "1801fd7a-97d9-4afd-937e-3201adb74357"
      },
      "execution_count": null,
      "outputs": [
        {
          "output_type": "execute_result",
          "data": {
            "text/plain": [
              "19900.870778"
            ]
          },
          "metadata": {},
          "execution_count": 46
        }
      ]
    },
    {
      "cell_type": "markdown",
      "source": [
        "The expected number of users who would have stayed with\n",
        "the game for one day, if  null hypothesis were true is 19901(round off).\n"
      ],
      "metadata": {
        "id": "Vwyfk2Jqs0Vb"
      }
    },
    {
      "cell_type": "markdown",
      "source": [
        "F(d)(i)\n",
        "\n",
        "I calculated total number of users in both versions, then I calculated the total number of users in retention_1 and lastly I calculated expected value of users in Gulf of Maine by multiplying total number of users in retention1 by total number of users in Gulf of Maine."
      ],
      "metadata": {
        "id": "sLzEJgyfRUkw"
      }
    },
    {
      "cell_type": "code",
      "source": [
        "#F(e): Binomial z-test where, p - sample proportion, P - expected proportion under null hypothesis, and SE - standard error\n",
        "\n",
        "#Calculating standard error of sample proportion\n",
        "import numpy as np\n",
        "\n",
        "gulf_of_maine = Super_LobsterRun_data[Super_LobsterRun_data[\"version\"] == \"Gulf of Maine\"]\n",
        "p = gulf_of_maine[\"retention_1\"].mean()\n",
        "n = len(gulf_of_maine)\n",
        "SE = np.sqrt(p * (1 - p) / n)\n",
        "SE"
      ],
      "metadata": {
        "colab": {
          "base_uri": "https://localhost:8080/"
        },
        "id": "kpgT_Qxuc7Fd",
        "outputId": "dfee9ad1-0593-464c-d68a-cdef0b56a737"
      },
      "execution_count": null,
      "outputs": [
        {
          "output_type": "execute_result",
          "data": {
            "text/plain": [
              "0.00235218736941068"
            ]
          },
          "metadata": {},
          "execution_count": 47
        }
      ]
    },
    {
      "cell_type": "code",
      "source": [
        "#Calculating z-score\n",
        "overall_retention_1 = Super_LobsterRun_data[\"retention_1\"].mean()\n",
        "P = overall_retention_1\n",
        "z = (p - P) / SE\n",
        "z"
      ],
      "metadata": {
        "colab": {
          "base_uri": "https://localhost:8080/"
        },
        "id": "1V9g8apAdHBX",
        "outputId": "470223d6-9feb-4d84-9426-59094106d541"
      },
      "execution_count": null,
      "outputs": [
        {
          "output_type": "execute_result",
          "data": {
            "text/plain": [
              "1.2662320258983257"
            ]
          },
          "metadata": {},
          "execution_count": 48
        }
      ]
    },
    {
      "cell_type": "code",
      "source": [
        "#Calculating the p-value using a two-tailed test\n",
        "from scipy.stats import norm\n",
        "\n",
        "p_value = norm.sf(abs(z)) * 2\n",
        "p_value"
      ],
      "metadata": {
        "colab": {
          "base_uri": "https://localhost:8080/"
        },
        "id": "PGu0mh07ePlr",
        "outputId": "26858ca7-d5ac-46b8-ae76-28de692703c2"
      },
      "execution_count": null,
      "outputs": [
        {
          "output_type": "execute_result",
          "data": {
            "text/plain": [
              "0.20543002478527195"
            ]
          },
          "metadata": {},
          "execution_count": 49
        }
      ]
    },
    {
      "cell_type": "markdown",
      "source": [
        "Using the binomial z-test, we have determined that the p-value exceeds the significance level of 0.05. As a result, we cannot reject the null hypothesis that there is no significant variance in retention rates between the Gulf of Maine and North Atlantic versions of the game. Consequently, we can infer that the retention_1 for the Gulf of Maine version is not significantly different from the anticipated value according to the null hypothesis."
      ],
      "metadata": {
        "id": "55qAYlA_f-TD"
      }
    },
    {
      "cell_type": "code",
      "source": [
        "# (G) I used the same code as of above in (F), just changed the retention_1 to retention_7.\n",
        "# Calculate the total retention for two different versions of a game\n",
        "total_retention_maine = Super_LobsterRun_data.loc[Super_LobsterRun_data[\"version\"] == \"Gulf of Maine\", \"retention_7\"].sum()\n",
        "total_retention_atlantic = Super_LobsterRun_data.loc[Super_LobsterRun_data[\"version\"] == \"North Atlantic\", \"retention_7\"].sum()\n",
        "\n",
        "# Calculate the number of unique users who played each version of the game\n",
        "unique_users_maine = len(Super_LobsterRun_data.loc[Super_LobsterRun_data[\"version\"] == \"Gulf of Maine\", \"userid\"])\n",
        "unique_users_atlantic = len(Super_LobsterRun_data.loc[Super_LobsterRun_data[\"version\"] == \"North Atlantic\", \"userid\"])\n",
        "\n",
        "from statsmodels.stats.proportion import proportions_ztest\n",
        "\n",
        "successes = [total_retention_maine, total_retention_atlantic]\n",
        "nobs = [unique_users_maine, unique_users_atlantic]\n",
        "\n",
        "z_stat, p_value = proportions_ztest(successes, nobs, alternative = \"two-sided\")\n",
        "\n",
        "print(\"z-statistic:\", z_stat)\n",
        "print(\"p-value:\", p_value)"
      ],
      "metadata": {
        "colab": {
          "base_uri": "https://localhost:8080/"
        },
        "id": "Odo9ZAbxgKt3",
        "outputId": "c0fe6f37-e813-487d-a7e7-05c4c3423b64"
      },
      "execution_count": null,
      "outputs": [
        {
          "output_type": "stream",
          "name": "stdout",
          "text": [
            "z-statistic: 5.2243715853147945\n",
            "p-value: 1.7474754929457694e-07\n"
          ]
        }
      ]
    },
    {
      "cell_type": "markdown",
      "source": [
        "G(a) The calculated z-statistic and p-value suggest that the null hypothesis can be rejected in favor of the alternative hypothesis. This indicates that there is a significant difference in the proportion of users retained between the two versions of the game."
      ],
      "metadata": {
        "id": "sIcSXInrovO2"
      }
    },
    {
      "cell_type": "markdown",
      "source": [
        "G(b)  I have selected North Atlantic"
      ],
      "metadata": {
        "id": "TNsvXm0Ahn_X"
      }
    },
    {
      "cell_type": "code",
      "source": [
        "#G(c)\n",
        "chosen_version='North Atlantic'\n",
        "num_retained_1day=len(Super_LobsterRun_data[(Super_LobsterRun_data['version']=='North Atlantic')&(Super_LobsterRun_data['retention_7']==True)])\n",
        "print(num_retained_1day)"
      ],
      "metadata": {
        "colab": {
          "base_uri": "https://localhost:8080/"
        },
        "id": "jxXO9e1Xh_mr",
        "outputId": "cb6aa4a4-da71-4e38-8008-6af76742b946"
      },
      "execution_count": null,
      "outputs": [
        {
          "output_type": "stream",
          "name": "stdout",
          "text": [
            "8279\n"
          ]
        }
      ]
    },
    {
      "cell_type": "markdown",
      "source": [
        "The number of users of North Atlantic version who stayed with\n",
        "the game for seven days is 8279."
      ],
      "metadata": {
        "id": "qvOHnKyUtT8F"
      }
    },
    {
      "cell_type": "code",
      "source": [
        "#G(d)\n",
        "# Here I calculate total number of users in both versions\n",
        "pd.value_counts(Super_LobsterRun_data['version'],normalize=True)"
      ],
      "metadata": {
        "colab": {
          "base_uri": "https://localhost:8080/"
        },
        "id": "W5Q4z1tZidB4",
        "outputId": "8cd83063-8adb-4f79-8fb6-bd164aefa8d1"
      },
      "execution_count": null,
      "outputs": [
        {
          "output_type": "execute_result",
          "data": {
            "text/plain": [
              "North Atlantic    0.504374\n",
              "Gulf of Maine     0.495626\n",
              "Name: version, dtype: float64"
            ]
          },
          "metadata": {},
          "execution_count": 52
        }
      ]
    },
    {
      "cell_type": "code",
      "source": [
        "# Here I calculated the total number of users in retention_7\n",
        "pd.value_counts(Super_LobsterRun_data['retention_7'])"
      ],
      "metadata": {
        "colab": {
          "base_uri": "https://localhost:8080/"
        },
        "id": "nMsOfMIOihbi",
        "outputId": "fa770858-fd6a-4590-a0c3-acffba8ff355"
      },
      "execution_count": null,
      "outputs": [
        {
          "output_type": "execute_result",
          "data": {
            "text/plain": [
              "False    73166\n",
              "True     17023\n",
              "Name: retention_7, dtype: int64"
            ]
          },
          "metadata": {},
          "execution_count": 53
        }
      ]
    },
    {
      "cell_type": "code",
      "source": [
        "North_Expect1=17023*0.504374\n",
        "North_Expect1"
      ],
      "metadata": {
        "colab": {
          "base_uri": "https://localhost:8080/"
        },
        "id": "w4jQBcwOils9",
        "outputId": "075ee7e9-8b0d-4fd9-e4c0-844248d01ba0"
      },
      "execution_count": null,
      "outputs": [
        {
          "output_type": "execute_result",
          "data": {
            "text/plain": [
              "8585.958602"
            ]
          },
          "metadata": {},
          "execution_count": 54
        }
      ]
    },
    {
      "cell_type": "markdown",
      "source": [
        "The expected number of users who would have stayed with\n",
        "the game for seven days, if  null hypothesis were true is 8586(round off)."
      ],
      "metadata": {
        "id": "SeeKEcpgtpkC"
      }
    },
    {
      "cell_type": "markdown",
      "source": [
        "G(d)(i)\n",
        "\n",
        "I calculated total number of users in both versions, then I calculated the total number of users in retention_7 and lastly I calculated expected value of users in North Atlantic by multiplying total number of users in retention7 by total number of users in North Atlantic."
      ],
      "metadata": {
        "id": "lMa1npnbj82a"
      }
    },
    {
      "cell_type": "code",
      "source": [
        "#G(e): Binomial z-test where, p - sample proportion, P - expected proportion under null hypothesis, and SE - standard error\n",
        "\n",
        "#Calculating standard error of sample proportion\n",
        "import numpy as np\n",
        "\n",
        "north_atlantic = Super_LobsterRun_data[Super_LobsterRun_data[\"version\"] == \"North Atlantic\"]\n",
        "p = gulf_of_maine[\"retention_7\"].mean()\n",
        "n = len(north_atlantic)\n",
        "SE = np.sqrt(p * (1 - p) / n)\n",
        "SE"
      ],
      "metadata": {
        "colab": {
          "base_uri": "https://localhost:8080/"
        },
        "id": "E_qQ8-5Rm12A",
        "outputId": "336f125f-e7be-4554-d8b7-e3ffbf1c6624"
      },
      "execution_count": null,
      "outputs": [
        {
          "output_type": "execute_result",
          "data": {
            "text/plain": [
              "0.0018598590930315293"
            ]
          },
          "metadata": {},
          "execution_count": 55
        }
      ]
    },
    {
      "cell_type": "code",
      "source": [
        "#Calculating z-score\n",
        "overall_retention_7 = Super_LobsterRun_data[\"retention_7\"].mean()\n",
        "P = overall_retention_7\n",
        "z = (p - P) / SE\n",
        "z"
      ],
      "metadata": {
        "colab": {
          "base_uri": "https://localhost:8080/"
        },
        "id": "fyvH8V9XnEBn",
        "outputId": "68786fda-3e68-413f-c374-e4332011f036"
      },
      "execution_count": null,
      "outputs": [
        {
          "output_type": "execute_result",
          "data": {
            "text/plain": [
              "3.6922899501250446"
            ]
          },
          "metadata": {},
          "execution_count": 56
        }
      ]
    },
    {
      "cell_type": "code",
      "source": [
        "#Calculating the p-value using a two-tailed test\n",
        "from scipy.stats import norm\n",
        "\n",
        "p_value = norm.sf(abs(z)) * 2\n",
        "p_value"
      ],
      "metadata": {
        "colab": {
          "base_uri": "https://localhost:8080/"
        },
        "id": "0rdCScTenLXz",
        "outputId": "4e412c9e-dd78-45fc-eddf-0ec7d6ab4255"
      },
      "execution_count": null,
      "outputs": [
        {
          "output_type": "execute_result",
          "data": {
            "text/plain": [
              "0.00022224387831898507"
            ]
          },
          "metadata": {},
          "execution_count": 57
        }
      ]
    },
    {
      "cell_type": "markdown",
      "source": [
        "G(f) Based on all the three values that I got , it can be concluded that the sample proportion is significantly different from the proportion assumed by the null hypothesis, with a level of significance of 0.05. The calculated z-score of 3.6922 indicates that the sample proportion is 3.6922 standard errors away from the null hypothesis proportion. Moreover, the calculated p-value of 0.0002222 is less than the chosen significance level of 0.05, indicating strong evidence to reject the null hypothesis. Therefore, the conclusion is that the sample proportion is statistically different from the null hypothesis proportion, and the null hypothesis can be rejected in favor of the alternative hypothesis."
      ],
      "metadata": {
        "id": "K4h6Rnq5n6W9"
      }
    },
    {
      "cell_type": "markdown",
      "source": [
        "(H) Based on the results of the statistical tests, Lobster Land can conclude that there is no significant difference in user spending between the two versions of the game, but there is a significant difference in user retention rates after 7 days. To put these results into context, Lobster Land may want to further investigate why there is a difference in user retention rates and whether there are any specific features or aspects of the game that are contributing to this difference. This will help them to identify potential areas for improvement in user engagement and retention which will further lead to perfect decisions.\n",
        "\n",
        "\n",
        "\n"
      ],
      "metadata": {
        "id": "j8FmAlcmxIsr"
      }
    }
  ]
}